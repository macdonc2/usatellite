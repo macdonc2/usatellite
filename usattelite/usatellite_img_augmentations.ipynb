{
 "cells": [
  {
   "cell_type": "code",
   "execution_count": null,
   "metadata": {},
   "outputs": [],
   "source": [
    "#  Importing my first modules from my first package\n",
    "\n",
    "from data_utils.dataset import DataLoader             #  From usatellite\n",
    "from preprocessing.preprocessor import Preprocess     #  From usatellite\n",
    "from data_utils.augmentations import Augmentor        #  From usatellite\n",
    "from plot_utils.plotting_utils import SatPlotter      #  From usatellite\n",
    "\n",
    "#  Import list\n",
    "import numpy as np\n",
    "import cv2\n",
    "import matplotlib.pyplot as plt # for QC"
   ]
  },
  {
   "cell_type": "code",
   "execution_count": null,
   "metadata": {},
   "outputs": [],
   "source": [
    "img_array = np.load(r'C:\\\\Users\\\\Cody\\\\Documents\\\\usatellite_data\\\\img_array.npy')"
   ]
  },
  {
   "cell_type": "markdown",
   "metadata": {},
   "source": [
    "Mac below"
   ]
  },
  {
   "cell_type": "markdown",
   "metadata": {},
   "source": [
    "img_array = np.load(r'/Users/cody/Python/usattelite_data/img_array.npy')"
   ]
  },
  {
   "cell_type": "code",
   "execution_count": null,
   "metadata": {},
   "outputs": [],
   "source": [
    "label_array = np.load(r'C:\\\\Users\\\\Cody\\\\Documents\\\\usatellite_data\\\\label_array.npy')"
   ]
  },
  {
   "cell_type": "markdown",
   "metadata": {},
   "source": [
    "Mac below"
   ]
  },
  {
   "cell_type": "markdown",
   "metadata": {},
   "source": [
    "label_array = np.load(r'/Users/cody/Python/usattelite_data/label_array.npy')"
   ]
  },
  {
   "cell_type": "code",
   "execution_count": null,
   "metadata": {},
   "outputs": [],
   "source": [
    "aug_imgs, aug_labels = Augmentor.img_augs(img_array, label_array, 128)"
   ]
  },
  {
   "cell_type": "code",
   "execution_count": null,
   "metadata": {},
   "outputs": [],
   "source": [
    "satplot = SatPlotter()"
   ]
  },
  {
   "cell_type": "code",
   "execution_count": null,
   "metadata": {},
   "outputs": [],
   "source": [
    "satplot.plot_img_augs(aug_imgs, aug_labels)"
   ]
  },
  {
   "cell_type": "code",
   "execution_count": null,
   "metadata": {},
   "outputs": [],
   "source": [
    "np.save(r'C:\\\\Users\\\\Cody\\\\Documents\\\\usatellite_data\\\\aug_imgs.npy', aug_imgs)"
   ]
  },
  {
   "cell_type": "markdown",
   "metadata": {},
   "source": [
    "Mac below"
   ]
  },
  {
   "cell_type": "markdown",
   "metadata": {},
   "source": [
    "np.save(r'/Users/cody/Python/usattelite_data/aug_imgs.npy', aug_imgs)"
   ]
  },
  {
   "cell_type": "code",
   "execution_count": null,
   "metadata": {},
   "outputs": [],
   "source": [
    "np.save(r'C:\\\\Users\\\\Cody\\\\Documents\\\\usatellite_data\\\\aug_labels.npy', aug_labels)"
   ]
  },
  {
   "cell_type": "markdown",
   "metadata": {},
   "source": [
    "Mac below"
   ]
  },
  {
   "cell_type": "markdown",
   "metadata": {},
   "source": [
    "np.save(r'/Users/cody/Python/usattelite_data/aug_labels.npy', aug_labels)"
   ]
  },
  {
   "cell_type": "code",
   "execution_count": null,
   "metadata": {},
   "outputs": [],
   "source": []
  }
 ],
 "metadata": {
  "kernelspec": {
   "display_name": "Python 3",
   "language": "python",
   "name": "python3"
  },
  "language_info": {
   "codemirror_mode": {
    "name": "ipython",
    "version": 3
   },
   "file_extension": ".py",
   "mimetype": "text/x-python",
   "name": "python",
   "nbconvert_exporter": "python",
   "pygments_lexer": "ipython3",
   "version": "3.8.3"
  }
 },
 "nbformat": 4,
 "nbformat_minor": 4
}
