{
 "cells": [
  {
   "cell_type": "code",
   "execution_count": 20,
   "metadata": {},
   "outputs": [],
   "source": [
    "# Helping Michael with remote sensing data\n",
    "\n",
    "import cv2\n",
    "import tifffile # for reading tiff files. There are other modules that can do this, but tifffile is most stable on Windows\n",
    "import numpy as np # for array handling\n",
    "import matplotlib.pyplot as plt # for QC\n",
    "import glob # to gather up image filepath lists\n",
    "from skimage.transform import resize # we're gonna do some rearranging\n",
    "#import rasterio # let's try to ditch this\n",
    "import scipy # same\n",
    "from sklearn.preprocessing import OneHotEncoder\n",
    "from keras import utils"
   ]
  },
  {
   "cell_type": "code",
   "execution_count": 21,
   "metadata": {},
   "outputs": [],
   "source": [
    "class Dataset:\n",
    "    \n",
    "    \"\"\"\n",
    "    A Dataset class that has methods for loading tiff files of satellite images for semantic segmentation.  \n",
    "    \"\"\"\n",
    "\n",
    "    def load_list(self, directory, pattern):\n",
    "        \"\"\"\n",
    "        Simply loads data given a directory and file pattern.\n",
    "        \"\"\"\n",
    "        \n",
    "        return glob.glob(f'{directory}/' + f'{pattern}' + '*.tif')\n",
    "\n",
    "    def load_and_resize_images(im_list, shape, dims):\n",
    "        \"\"\"\n",
    "        Resize images and place inside a library for ML tasks.  im_list depends on using load_list prior \n",
    "        to executing the method.\n",
    "        \"\"\"\n",
    "        \n",
    "        shape = shape\n",
    "        img_array = np.zeros((len(im_list), shape, shape, dims))\n",
    "        \n",
    "        \n",
    "        for i in range(len(im_list)):\n",
    "            img = tifffile.imread(im_list[i])\n",
    "            img_array[i] = resize(img, (shape, shape, dims))\n",
    "            \n",
    "        return img_array\n",
    "    \n",
    "    def load_and_resize_dsm(im_list, shape, dims=1):\n",
    "        \"\"\"\n",
    "        Resize images and place inside a library for ML tasks.  im_list depends on using load_list prior \n",
    "        to executing the method.\n",
    "        \"\"\"\n",
    "\n",
    "        shape = shape\n",
    "        dsm_array = np.zeros((len(im_list), shape, shape, dims))\n",
    "\n",
    "\n",
    "        for i in range(len(im_list)):\n",
    "            img = tifffile.imread(im_list[i])\n",
    "            dsm_array[i] = resize(img, (shape, shape, dims))\n",
    "\n",
    "        return np.squeeze(dsm_array,-1)\n",
    "    "
   ]
  },
  {
   "cell_type": "code",
   "execution_count": 22,
   "metadata": {},
   "outputs": [],
   "source": [
    "class Preprocessor:\n",
    "\n",
    "    \"\"\"\n",
    "    The Preprocessor class is available to help prepare data for machine learning.  \n",
    "    \n",
    "    \n",
    "    top_hat_filter will apply a white-top-hat-filter for removing terrain effect.  \n",
    "    This filter is somewhat sensitive to the kernel size (as is every filter, I suppose),\n",
    "    and will need some trial and error.  It is assumed that the images are reshaped prior\n",
    "    to filtering.\n",
    "    \n",
    "    categorical leverages Keras to \n",
    "    \"\"\"\n",
    "    \n",
    "    def top_hat_filter(dsm_array, filter_size=400):\n",
    "        \n",
    "        filt_size = (filter_size, filter_size)\n",
    "        kernel = cv2.getStructuringElement(cv2.MORPH_RECT, filt_size) \n",
    "        \n",
    "        top_hat_array = np.zeros_like(dsm_array)\n",
    "        \n",
    "        for i in range(len(dsm_array)):\n",
    "            top_hat_array[i] = cv2.morphologyEx(dsm_array[i], cv2.MORPH_TOPHAT, kernel) \n",
    "        \n",
    "        return top_hat_array\n",
    "    \n",
    "    def categorical(labels):\n",
    "        \n",
    "        return utils.to_categorical(labels)"
   ]
  },
  {
   "cell_type": "code",
   "execution_count": 23,
   "metadata": {},
   "outputs": [],
   "source": [
    "data_loader = Dataset()"
   ]
  },
  {
   "cell_type": "code",
   "execution_count": 24,
   "metadata": {},
   "outputs": [],
   "source": [
    "imgs = data_loader.load_list('ISPRS/top', 'top_mosaic_09cm_area')"
   ]
  },
  {
   "cell_type": "code",
   "execution_count": 25,
   "metadata": {},
   "outputs": [],
   "source": [
    "img_array = Dataset.load_and_resize_images(im_list=imgs, shape=512, dims=3)"
   ]
  },
  {
   "cell_type": "code",
   "execution_count": 7,
   "metadata": {},
   "outputs": [],
   "source": [
    "dsm_list = data_loader.load_list('ISPRS/dsm', 'dsm_09cm_matching_area')"
   ]
  },
  {
   "cell_type": "code",
   "execution_count": 8,
   "metadata": {},
   "outputs": [],
   "source": [
    "dsm_array = Dataset.load_and_resize_dsm(dsm_list, 512)"
   ]
  },
  {
   "cell_type": "code",
   "execution_count": 9,
   "metadata": {},
   "outputs": [],
   "source": [
    "dsm_tophat = Preprocessor.top_hat_filter(dsm_array, 75)"
   ]
  },
  {
   "cell_type": "code",
   "execution_count": 10,
   "metadata": {},
   "outputs": [],
   "source": [
    "labels = data_loader.load_list('ISPRS/gt', 'top_mosaic_09cm_area')"
   ]
  },
  {
   "cell_type": "code",
   "execution_count": 11,
   "metadata": {},
   "outputs": [],
   "source": [
    "label_array = Dataset.load_and_resize_dsm(labels, 512)"
   ]
  },
  {
   "cell_type": "code",
   "execution_count": 12,
   "metadata": {},
   "outputs": [],
   "source": [
    "labels = Preprocessor.categorical(label_array)"
   ]
  },
  {
   "cell_type": "code",
   "execution_count": 13,
   "metadata": {},
   "outputs": [
    {
     "data": {
      "text/plain": [
       "(33, 512, 512, 2)"
      ]
     },
     "execution_count": 13,
     "metadata": {},
     "output_type": "execute_result"
    }
   ],
   "source": [
    "labels.shape"
   ]
  },
  {
   "cell_type": "code",
   "execution_count": null,
   "metadata": {},
   "outputs": [],
   "source": []
  }
 ],
 "metadata": {
  "kernelspec": {
   "display_name": "Python 3",
   "language": "python",
   "name": "python3"
  },
  "language_info": {
   "codemirror_mode": {
    "name": "ipython",
    "version": 3
   },
   "file_extension": ".py",
   "mimetype": "text/x-python",
   "name": "python",
   "nbconvert_exporter": "python",
   "pygments_lexer": "ipython3",
   "version": "3.7.6"
  }
 },
 "nbformat": 4,
 "nbformat_minor": 4
}
